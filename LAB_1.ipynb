{
  "nbformat": 4,
  "nbformat_minor": 0,
  "metadata": {
    "colab": {
      "provenance": []
    },
    "kernelspec": {
      "name": "python3",
      "display_name": "Python 3"
    },
    "language_info": {
      "name": "python"
    }
  },
  "cells": [
    {
      "cell_type": "markdown",
      "source": [
        "\n",
        "# **What is Pandas jan?**\n",
        "\n",
        "\n",
        "\"Pandas\" is a popular open-source Python library used for data manipulation and analysis. It provides easy-to-use data structures and data analysis tools that make working with structured data, such as tabular or time-series data, more intuitive and efficient."
      ],
      "metadata": {
        "id": "78P98h6K3P_I"
      }
    },
    {
      "cell_type": "code",
      "source": [
        "import numpy as np\n",
        "import pandas as pd"
      ],
      "metadata": {
        "id": "mGDvTxAo3Qm9"
      },
      "execution_count": null,
      "outputs": []
    },
    {
      "cell_type": "markdown",
      "source": [
        "# **To load data directly from Colab**"
      ],
      "metadata": {
        "id": "NMR20NvD7g0e"
      }
    },
    {
      "cell_type": "code",
      "source": [
        "train= pd.read_csv('/content/train.csv')\n",
        "\n",
        "train.head()"
      ],
      "metadata": {
        "id": "IQ37aYZ03IsU"
      },
      "execution_count": null,
      "outputs": []
    },
    {
      "cell_type": "markdown",
      "source": [
        "# **To load data directly from Kaggle into Google Colab, you can follow these steps**\n"
      ],
      "metadata": {
        "id": "50Jdb_9I5Jme"
      }
    },
    {
      "cell_type": "markdown",
      "source": [
        "# **A)**\n",
        "\n",
        "### **Obtaining Kaggle API Credentials:**\n",
        "\n",
        "1. **Create a Kaggle Account**: If you don't have one already, sign up for a Kaggle account at [kaggle.com](https://www.kaggle.com/account/login).\n",
        "\n",
        "2. **Enable Kaggle API Access**: Go to your Kaggle account settings page. Scroll down to the \"API\" section and click on \"Create New API Token\". This will download a file named `kaggle.json` to your local machine. This file contains your Kaggle API credentials.\n",
        "\n",
        "# **B)**\n",
        "### **Loading Kaggle API Credentials into Colab**:\n",
        "\n",
        "1. **Open Google Colab**: Go to [colab.research.google.com](https://colab.research.google.com/).\n",
        "\n",
        "2. **Create a New Notebook**: If you don't already have one, create a new notebook by clicking on \"File\" -> \"New Notebook\" -> \"Python 3\".\n",
        "\n",
        "3. **Upload Kaggle API Credentials**:\n",
        "   - Run the following code in a code cell:\n",
        "\n",
        "     ```python\n",
        "     from google.colab import files\n",
        "     files.upload()\n",
        "     ```\n",
        "\n",
        "   - This will prompt you to upload files. Click on \"Choose Files\" and select the `kaggle.json` file you downloaded earlier.\n",
        "\n",
        "4. **Verify Upload**: Once the file is uploaded, you can verify that it's been successfully uploaded by checking the content section in Google Colab.\n"
      ],
      "metadata": {
        "id": "soWFK38S4qIy"
      }
    },
    {
      "cell_type": "code",
      "execution_count": null,
      "metadata": {
        "id": "L8shWEQ4yECq"
      },
      "outputs": [],
      "source": [
        "from google.colab import files\n",
        "files.upload()"
      ]
    },
    {
      "cell_type": "markdown",
      "source": [
        "# **C)**\n",
        "\n",
        "This script facilitates the setup of the Kaggle CLI for Python environments. Let's break it down:\n",
        "\n",
        "1. `!pip install kaggle`: This line utilizes pip to install the Kaggle Python package, enabling interaction with the Kaggle platform from within Python.\n",
        "\n",
        "2. `!mkdir ~/.kaggle`: Here, a directory named \".kaggle\" is created in the user's home directory. Kaggle utilizes this directory to store its configuration files.\n",
        "\n",
        "3. `!cp kaggle.json ~/.kaggle/`: This command copies a file named \"kaggle.json\" to the newly created \".kaggle\" directory. The \"kaggle.json\" file houses the user's Kaggle API credentials, vital for authentication when utilizing the Kaggle CLI or API.\n",
        "\n",
        "4. `!chmod 600 ~/.kaggle/kaggle.json`: This line adjusts the permissions of the \"kaggle.json\" file, ensuring that only the owner has read and write access. This security measure safeguards the Kaggle API credentials from unauthorized access.\n",
        "\n",
        "In summary, this script facilitates the installation of the Kaggle CLI, establishes the requisite directory structure, transfers the Kaggle API credentials to the designated location, and secures the credentials file permissions."
      ],
      "metadata": {
        "id": "m0VuSKp04C-f"
      }
    },
    {
      "cell_type": "code",
      "source": [
        "!pip install kaggle\n",
        "!mkdir ~/.kaggle\n",
        "!cp kaggle.json ~/.kaggle/\n",
        "!chmod 600 ~/.kaggle/kaggle.json"
      ],
      "metadata": {
        "colab": {
          "base_uri": "https://localhost:8080/"
        },
        "id": "MRVjYxpt3D-k",
        "outputId": "b95f4351-9c9f-4bab-91dd-ec9fc8d0f999"
      },
      "execution_count": null,
      "outputs": [
        {
          "output_type": "stream",
          "name": "stdout",
          "text": [
            "Requirement already satisfied: kaggle in /usr/local/lib/python3.10/dist-packages (1.5.16)\n",
            "Requirement already satisfied: six>=1.10 in /usr/local/lib/python3.10/dist-packages (from kaggle) (1.16.0)\n",
            "Requirement already satisfied: certifi in /usr/local/lib/python3.10/dist-packages (from kaggle) (2024.2.2)\n",
            "Requirement already satisfied: python-dateutil in /usr/local/lib/python3.10/dist-packages (from kaggle) (2.8.2)\n",
            "Requirement already satisfied: requests in /usr/local/lib/python3.10/dist-packages (from kaggle) (2.31.0)\n",
            "Requirement already satisfied: tqdm in /usr/local/lib/python3.10/dist-packages (from kaggle) (4.66.2)\n",
            "Requirement already satisfied: python-slugify in /usr/local/lib/python3.10/dist-packages (from kaggle) (8.0.4)\n",
            "Requirement already satisfied: urllib3 in /usr/local/lib/python3.10/dist-packages (from kaggle) (2.0.7)\n",
            "Requirement already satisfied: bleach in /usr/local/lib/python3.10/dist-packages (from kaggle) (6.1.0)\n",
            "Requirement already satisfied: webencodings in /usr/local/lib/python3.10/dist-packages (from bleach->kaggle) (0.5.1)\n",
            "Requirement already satisfied: text-unidecode>=1.3 in /usr/local/lib/python3.10/dist-packages (from python-slugify->kaggle) (1.3)\n",
            "Requirement already satisfied: charset-normalizer<4,>=2 in /usr/local/lib/python3.10/dist-packages (from requests->kaggle) (3.3.2)\n",
            "Requirement already satisfied: idna<4,>=2.5 in /usr/local/lib/python3.10/dist-packages (from requests->kaggle) (3.7)\n"
          ]
        }
      ]
    },
    {
      "cell_type": "markdown",
      "source": [
        "# **D)**\n",
        "\n",
        "To download a **dataset** from Kaggle using the Kaggle API, you can follow this general format:\n",
        "\n",
        "```python\n",
        "!kaggle datasets download -d dataset-slug\n",
        "```\n",
        "\n",
        "Where:\n",
        "- `!kaggle`: Executes the Kaggle CLI.\n",
        "- `datasets download`: Specifies that you want to download a dataset.\n",
        "- `-d dataset-slug`: Specifies the dataset you want to download using its slug (a unique identifier for the dataset).\n",
        "\n",
        "If you're downloading a dataset from a **competition**, the format is similar:\n",
        "\n",
        "```python\n",
        "!kaggle competitions download -c competition-slug\n",
        "```\n",
        "\n",
        "Where:\n",
        "- `competitions download`: Specifies that you want to download a dataset from a competition.\n",
        "- `-c competition-slug`: Specifies the competition you want to download from using its slug.\n",
        "\n",
        "Remember to replace `dataset-slug` with the actual slug of the dataset and `competition-slug` with the actual slug of the competition. Additionally, ensure you have set up your Kaggle API credentials and have installed the Kaggle CLI in your environment before executing these commands."
      ],
      "metadata": {
        "id": "n92JxaAv4MhZ"
      }
    },
    {
      "cell_type": "markdown",
      "source": [
        "To download the dataset from the WiDS Datathon 2024 Challenge 2 competition, you can visit the competition page located at https://www.kaggle.com/competitions/widsdatathon2024-challenge2. The competition slug for this competition is \"widsdatathon2024-challenge2\"."
      ],
      "metadata": {
        "id": "VcVzOkbxgvyb"
      }
    },
    {
      "cell_type": "code",
      "source": [
        "!kaggle competitions download -c widsdatathon2024-challenge2"
      ],
      "metadata": {
        "colab": {
          "base_uri": "https://localhost:8080/"
        },
        "id": "qOZA_7uO3to9",
        "outputId": "ee33816f-b3cc-478f-848b-74e9bc114f4f"
      },
      "execution_count": null,
      "outputs": [
        {
          "output_type": "stream",
          "name": "stdout",
          "text": [
            "Downloading widsdatathon2024-challenge2.zip to /content\n",
            "\r  0% 0.00/5.71M [00:00<?, ?B/s]\n",
            "\r100% 5.71M/5.71M [00:00<00:00, 72.4MB/s]\n"
          ]
        }
      ]
    },
    {
      "cell_type": "markdown",
      "source": [
        "To download the dataset from the provided link, you can visit the Kaggle dataset page located at https://www.kaggle.com/datasets/mohithsairamreddy/salary-data. The dataset slug is \"mohithsairamreddy/salary-data\"."
      ],
      "metadata": {
        "id": "NA7SvAB8hxs0"
      }
    },
    {
      "cell_type": "code",
      "source": [
        "!kaggle datasets download -d mohithsairamreddy/salary-data\n"
      ],
      "metadata": {
        "colab": {
          "base_uri": "https://localhost:8080/"
        },
        "id": "o4ZyAK6C7ZJz",
        "outputId": "6317ee28-c2b3-4236-df95-8195616b5aaa"
      },
      "execution_count": null,
      "outputs": [
        {
          "output_type": "stream",
          "name": "stdout",
          "text": [
            "Downloading salary-data.zip to /content\n",
            "\r  0% 0.00/16.6k [00:00<?, ?B/s]\n",
            "\r100% 16.6k/16.6k [00:00<00:00, 31.5MB/s]\n"
          ]
        }
      ]
    },
    {
      "cell_type": "markdown",
      "source": [
        "# **E)**\n",
        "\n",
        "Once you've downloaded the dataset, which typically arrives in a zip format, you'll need to unzip it using the following command."
      ],
      "metadata": {
        "id": "xlWg3knqh4lr"
      }
    },
    {
      "cell_type": "code",
      "source": [
        "!unzip widsdatathon2024-challenge2.zip\n",
        "!ls"
      ],
      "metadata": {
        "colab": {
          "base_uri": "https://localhost:8080/"
        },
        "id": "q9VgX8kT3xHR",
        "outputId": "e7f78a7e-a85f-4976-8325-be4bc955b7b2"
      },
      "execution_count": null,
      "outputs": [
        {
          "output_type": "stream",
          "name": "stdout",
          "text": [
            "Archive:  widsdatathon2024-challenge2.zip\n",
            "  inflating: solution_template.csv   \n",
            "  inflating: test.csv                \n",
            "  inflating: train.csv               \n",
            "kaggle.json\t sample_data\t\ttest.csv   widsdatathon2024-challenge2.zip\n",
            "salary-data.zip  solution_template.csv\ttrain.csv\n"
          ]
        }
      ]
    },
    {
      "cell_type": "markdown",
      "source": [
        "# **F)**\n",
        "\n",
        "Then load the files into Google Colab enviromen for further Analysis."
      ],
      "metadata": {
        "id": "ldRQpmRtie2r"
      }
    },
    {
      "cell_type": "code",
      "source": [
        "train= pd.read_csv('/content/train.csv')\n",
        "\n",
        "train.head()"
      ],
      "metadata": {
        "colab": {
          "base_uri": "https://localhost:8080/",
          "height": 360
        },
        "id": "0jKbD6B93yct",
        "outputId": "a06d6929-5c54-4620-effd-ddbbdb7a33be"
      },
      "execution_count": null,
      "outputs": [
        {
          "output_type": "execute_result",
          "data": {
            "text/plain": [
              "   patient_id patient_race  payer_type patient_state  patient_zip3   Region  \\\n",
              "0      268700          NaN  COMMERCIAL            AR           724    South   \n",
              "1      484983        White         NaN            IL           629  Midwest   \n",
              "2      277055          NaN  COMMERCIAL            CA           925     West   \n",
              "3      320055     Hispanic    MEDICAID            CA           900     West   \n",
              "4      190386          NaN  COMMERCIAL            CA           934     West   \n",
              "\n",
              "             Division  patient_age patient_gender    bmi  ...  \\\n",
              "0  West South Central           39              F    NaN  ...   \n",
              "1  East North Central           55              F  35.36  ...   \n",
              "2             Pacific           59              F    NaN  ...   \n",
              "3             Pacific           59              F    NaN  ...   \n",
              "4             Pacific           71              F    NaN  ...   \n",
              "\n",
              "  Average of Apr-18 Average of May-18 Average of Jun-18 Average of Jul-18  \\\n",
              "0             52.55             74.77             79.96             81.69   \n",
              "1             49.30             72.87             77.40             77.43   \n",
              "2             68.50             70.31             78.61             87.24   \n",
              "3             63.34             63.10             67.45             75.86   \n",
              "4             59.45             60.24             64.77             69.81   \n",
              "\n",
              "  Average of Aug-18  Average of Sep-18  Average of Oct-18  Average of Nov-18  \\\n",
              "0             78.30              74.56              59.98              42.98   \n",
              "1             75.83              72.64              58.36              39.68   \n",
              "2             85.52              80.75              70.81              62.67   \n",
              "3             75.24              71.10              68.95              65.46   \n",
              "4             70.13              68.10              65.38              60.72   \n",
              "\n",
              "   Average of Dec-18  metastatic_diagnosis_period  \n",
              "0              41.18                          191  \n",
              "1              39.71                           33  \n",
              "2              55.58                          157  \n",
              "3              59.46                          146  \n",
              "4              54.08                          286  \n",
              "\n",
              "[5 rows x 152 columns]"
            ],
            "text/html": [
              "\n",
              "  <div id=\"df-390372c0-345e-4ef1-89da-2091d93c21a8\" class=\"colab-df-container\">\n",
              "    <div>\n",
              "<style scoped>\n",
              "    .dataframe tbody tr th:only-of-type {\n",
              "        vertical-align: middle;\n",
              "    }\n",
              "\n",
              "    .dataframe tbody tr th {\n",
              "        vertical-align: top;\n",
              "    }\n",
              "\n",
              "    .dataframe thead th {\n",
              "        text-align: right;\n",
              "    }\n",
              "</style>\n",
              "<table border=\"1\" class=\"dataframe\">\n",
              "  <thead>\n",
              "    <tr style=\"text-align: right;\">\n",
              "      <th></th>\n",
              "      <th>patient_id</th>\n",
              "      <th>patient_race</th>\n",
              "      <th>payer_type</th>\n",
              "      <th>patient_state</th>\n",
              "      <th>patient_zip3</th>\n",
              "      <th>Region</th>\n",
              "      <th>Division</th>\n",
              "      <th>patient_age</th>\n",
              "      <th>patient_gender</th>\n",
              "      <th>bmi</th>\n",
              "      <th>...</th>\n",
              "      <th>Average of Apr-18</th>\n",
              "      <th>Average of May-18</th>\n",
              "      <th>Average of Jun-18</th>\n",
              "      <th>Average of Jul-18</th>\n",
              "      <th>Average of Aug-18</th>\n",
              "      <th>Average of Sep-18</th>\n",
              "      <th>Average of Oct-18</th>\n",
              "      <th>Average of Nov-18</th>\n",
              "      <th>Average of Dec-18</th>\n",
              "      <th>metastatic_diagnosis_period</th>\n",
              "    </tr>\n",
              "  </thead>\n",
              "  <tbody>\n",
              "    <tr>\n",
              "      <th>0</th>\n",
              "      <td>268700</td>\n",
              "      <td>NaN</td>\n",
              "      <td>COMMERCIAL</td>\n",
              "      <td>AR</td>\n",
              "      <td>724</td>\n",
              "      <td>South</td>\n",
              "      <td>West South Central</td>\n",
              "      <td>39</td>\n",
              "      <td>F</td>\n",
              "      <td>NaN</td>\n",
              "      <td>...</td>\n",
              "      <td>52.55</td>\n",
              "      <td>74.77</td>\n",
              "      <td>79.96</td>\n",
              "      <td>81.69</td>\n",
              "      <td>78.30</td>\n",
              "      <td>74.56</td>\n",
              "      <td>59.98</td>\n",
              "      <td>42.98</td>\n",
              "      <td>41.18</td>\n",
              "      <td>191</td>\n",
              "    </tr>\n",
              "    <tr>\n",
              "      <th>1</th>\n",
              "      <td>484983</td>\n",
              "      <td>White</td>\n",
              "      <td>NaN</td>\n",
              "      <td>IL</td>\n",
              "      <td>629</td>\n",
              "      <td>Midwest</td>\n",
              "      <td>East North Central</td>\n",
              "      <td>55</td>\n",
              "      <td>F</td>\n",
              "      <td>35.36</td>\n",
              "      <td>...</td>\n",
              "      <td>49.30</td>\n",
              "      <td>72.87</td>\n",
              "      <td>77.40</td>\n",
              "      <td>77.43</td>\n",
              "      <td>75.83</td>\n",
              "      <td>72.64</td>\n",
              "      <td>58.36</td>\n",
              "      <td>39.68</td>\n",
              "      <td>39.71</td>\n",
              "      <td>33</td>\n",
              "    </tr>\n",
              "    <tr>\n",
              "      <th>2</th>\n",
              "      <td>277055</td>\n",
              "      <td>NaN</td>\n",
              "      <td>COMMERCIAL</td>\n",
              "      <td>CA</td>\n",
              "      <td>925</td>\n",
              "      <td>West</td>\n",
              "      <td>Pacific</td>\n",
              "      <td>59</td>\n",
              "      <td>F</td>\n",
              "      <td>NaN</td>\n",
              "      <td>...</td>\n",
              "      <td>68.50</td>\n",
              "      <td>70.31</td>\n",
              "      <td>78.61</td>\n",
              "      <td>87.24</td>\n",
              "      <td>85.52</td>\n",
              "      <td>80.75</td>\n",
              "      <td>70.81</td>\n",
              "      <td>62.67</td>\n",
              "      <td>55.58</td>\n",
              "      <td>157</td>\n",
              "    </tr>\n",
              "    <tr>\n",
              "      <th>3</th>\n",
              "      <td>320055</td>\n",
              "      <td>Hispanic</td>\n",
              "      <td>MEDICAID</td>\n",
              "      <td>CA</td>\n",
              "      <td>900</td>\n",
              "      <td>West</td>\n",
              "      <td>Pacific</td>\n",
              "      <td>59</td>\n",
              "      <td>F</td>\n",
              "      <td>NaN</td>\n",
              "      <td>...</td>\n",
              "      <td>63.34</td>\n",
              "      <td>63.10</td>\n",
              "      <td>67.45</td>\n",
              "      <td>75.86</td>\n",
              "      <td>75.24</td>\n",
              "      <td>71.10</td>\n",
              "      <td>68.95</td>\n",
              "      <td>65.46</td>\n",
              "      <td>59.46</td>\n",
              "      <td>146</td>\n",
              "    </tr>\n",
              "    <tr>\n",
              "      <th>4</th>\n",
              "      <td>190386</td>\n",
              "      <td>NaN</td>\n",
              "      <td>COMMERCIAL</td>\n",
              "      <td>CA</td>\n",
              "      <td>934</td>\n",
              "      <td>West</td>\n",
              "      <td>Pacific</td>\n",
              "      <td>71</td>\n",
              "      <td>F</td>\n",
              "      <td>NaN</td>\n",
              "      <td>...</td>\n",
              "      <td>59.45</td>\n",
              "      <td>60.24</td>\n",
              "      <td>64.77</td>\n",
              "      <td>69.81</td>\n",
              "      <td>70.13</td>\n",
              "      <td>68.10</td>\n",
              "      <td>65.38</td>\n",
              "      <td>60.72</td>\n",
              "      <td>54.08</td>\n",
              "      <td>286</td>\n",
              "    </tr>\n",
              "  </tbody>\n",
              "</table>\n",
              "<p>5 rows × 152 columns</p>\n",
              "</div>\n",
              "    <div class=\"colab-df-buttons\">\n",
              "\n",
              "  <div class=\"colab-df-container\">\n",
              "    <button class=\"colab-df-convert\" onclick=\"convertToInteractive('df-390372c0-345e-4ef1-89da-2091d93c21a8')\"\n",
              "            title=\"Convert this dataframe to an interactive table.\"\n",
              "            style=\"display:none;\">\n",
              "\n",
              "  <svg xmlns=\"http://www.w3.org/2000/svg\" height=\"24px\" viewBox=\"0 -960 960 960\">\n",
              "    <path d=\"M120-120v-720h720v720H120Zm60-500h600v-160H180v160Zm220 220h160v-160H400v160Zm0 220h160v-160H400v160ZM180-400h160v-160H180v160Zm440 0h160v-160H620v160ZM180-180h160v-160H180v160Zm440 0h160v-160H620v160Z\"/>\n",
              "  </svg>\n",
              "    </button>\n",
              "\n",
              "  <style>\n",
              "    .colab-df-container {\n",
              "      display:flex;\n",
              "      gap: 12px;\n",
              "    }\n",
              "\n",
              "    .colab-df-convert {\n",
              "      background-color: #E8F0FE;\n",
              "      border: none;\n",
              "      border-radius: 50%;\n",
              "      cursor: pointer;\n",
              "      display: none;\n",
              "      fill: #1967D2;\n",
              "      height: 32px;\n",
              "      padding: 0 0 0 0;\n",
              "      width: 32px;\n",
              "    }\n",
              "\n",
              "    .colab-df-convert:hover {\n",
              "      background-color: #E2EBFA;\n",
              "      box-shadow: 0px 1px 2px rgba(60, 64, 67, 0.3), 0px 1px 3px 1px rgba(60, 64, 67, 0.15);\n",
              "      fill: #174EA6;\n",
              "    }\n",
              "\n",
              "    .colab-df-buttons div {\n",
              "      margin-bottom: 4px;\n",
              "    }\n",
              "\n",
              "    [theme=dark] .colab-df-convert {\n",
              "      background-color: #3B4455;\n",
              "      fill: #D2E3FC;\n",
              "    }\n",
              "\n",
              "    [theme=dark] .colab-df-convert:hover {\n",
              "      background-color: #434B5C;\n",
              "      box-shadow: 0px 1px 3px 1px rgba(0, 0, 0, 0.15);\n",
              "      filter: drop-shadow(0px 1px 2px rgba(0, 0, 0, 0.3));\n",
              "      fill: #FFFFFF;\n",
              "    }\n",
              "  </style>\n",
              "\n",
              "    <script>\n",
              "      const buttonEl =\n",
              "        document.querySelector('#df-390372c0-345e-4ef1-89da-2091d93c21a8 button.colab-df-convert');\n",
              "      buttonEl.style.display =\n",
              "        google.colab.kernel.accessAllowed ? 'block' : 'none';\n",
              "\n",
              "      async function convertToInteractive(key) {\n",
              "        const element = document.querySelector('#df-390372c0-345e-4ef1-89da-2091d93c21a8');\n",
              "        const dataTable =\n",
              "          await google.colab.kernel.invokeFunction('convertToInteractive',\n",
              "                                                    [key], {});\n",
              "        if (!dataTable) return;\n",
              "\n",
              "        const docLinkHtml = 'Like what you see? Visit the ' +\n",
              "          '<a target=\"_blank\" href=https://colab.research.google.com/notebooks/data_table.ipynb>data table notebook</a>'\n",
              "          + ' to learn more about interactive tables.';\n",
              "        element.innerHTML = '';\n",
              "        dataTable['output_type'] = 'display_data';\n",
              "        await google.colab.output.renderOutput(dataTable, element);\n",
              "        const docLink = document.createElement('div');\n",
              "        docLink.innerHTML = docLinkHtml;\n",
              "        element.appendChild(docLink);\n",
              "      }\n",
              "    </script>\n",
              "  </div>\n",
              "\n",
              "\n",
              "<div id=\"df-6871311f-ca49-4cd3-9bf0-414105713cbc\">\n",
              "  <button class=\"colab-df-quickchart\" onclick=\"quickchart('df-6871311f-ca49-4cd3-9bf0-414105713cbc')\"\n",
              "            title=\"Suggest charts\"\n",
              "            style=\"display:none;\">\n",
              "\n",
              "<svg xmlns=\"http://www.w3.org/2000/svg\" height=\"24px\"viewBox=\"0 0 24 24\"\n",
              "     width=\"24px\">\n",
              "    <g>\n",
              "        <path d=\"M19 3H5c-1.1 0-2 .9-2 2v14c0 1.1.9 2 2 2h14c1.1 0 2-.9 2-2V5c0-1.1-.9-2-2-2zM9 17H7v-7h2v7zm4 0h-2V7h2v10zm4 0h-2v-4h2v4z\"/>\n",
              "    </g>\n",
              "</svg>\n",
              "  </button>\n",
              "\n",
              "<style>\n",
              "  .colab-df-quickchart {\n",
              "      --bg-color: #E8F0FE;\n",
              "      --fill-color: #1967D2;\n",
              "      --hover-bg-color: #E2EBFA;\n",
              "      --hover-fill-color: #174EA6;\n",
              "      --disabled-fill-color: #AAA;\n",
              "      --disabled-bg-color: #DDD;\n",
              "  }\n",
              "\n",
              "  [theme=dark] .colab-df-quickchart {\n",
              "      --bg-color: #3B4455;\n",
              "      --fill-color: #D2E3FC;\n",
              "      --hover-bg-color: #434B5C;\n",
              "      --hover-fill-color: #FFFFFF;\n",
              "      --disabled-bg-color: #3B4455;\n",
              "      --disabled-fill-color: #666;\n",
              "  }\n",
              "\n",
              "  .colab-df-quickchart {\n",
              "    background-color: var(--bg-color);\n",
              "    border: none;\n",
              "    border-radius: 50%;\n",
              "    cursor: pointer;\n",
              "    display: none;\n",
              "    fill: var(--fill-color);\n",
              "    height: 32px;\n",
              "    padding: 0;\n",
              "    width: 32px;\n",
              "  }\n",
              "\n",
              "  .colab-df-quickchart:hover {\n",
              "    background-color: var(--hover-bg-color);\n",
              "    box-shadow: 0 1px 2px rgba(60, 64, 67, 0.3), 0 1px 3px 1px rgba(60, 64, 67, 0.15);\n",
              "    fill: var(--button-hover-fill-color);\n",
              "  }\n",
              "\n",
              "  .colab-df-quickchart-complete:disabled,\n",
              "  .colab-df-quickchart-complete:disabled:hover {\n",
              "    background-color: var(--disabled-bg-color);\n",
              "    fill: var(--disabled-fill-color);\n",
              "    box-shadow: none;\n",
              "  }\n",
              "\n",
              "  .colab-df-spinner {\n",
              "    border: 2px solid var(--fill-color);\n",
              "    border-color: transparent;\n",
              "    border-bottom-color: var(--fill-color);\n",
              "    animation:\n",
              "      spin 1s steps(1) infinite;\n",
              "  }\n",
              "\n",
              "  @keyframes spin {\n",
              "    0% {\n",
              "      border-color: transparent;\n",
              "      border-bottom-color: var(--fill-color);\n",
              "      border-left-color: var(--fill-color);\n",
              "    }\n",
              "    20% {\n",
              "      border-color: transparent;\n",
              "      border-left-color: var(--fill-color);\n",
              "      border-top-color: var(--fill-color);\n",
              "    }\n",
              "    30% {\n",
              "      border-color: transparent;\n",
              "      border-left-color: var(--fill-color);\n",
              "      border-top-color: var(--fill-color);\n",
              "      border-right-color: var(--fill-color);\n",
              "    }\n",
              "    40% {\n",
              "      border-color: transparent;\n",
              "      border-right-color: var(--fill-color);\n",
              "      border-top-color: var(--fill-color);\n",
              "    }\n",
              "    60% {\n",
              "      border-color: transparent;\n",
              "      border-right-color: var(--fill-color);\n",
              "    }\n",
              "    80% {\n",
              "      border-color: transparent;\n",
              "      border-right-color: var(--fill-color);\n",
              "      border-bottom-color: var(--fill-color);\n",
              "    }\n",
              "    90% {\n",
              "      border-color: transparent;\n",
              "      border-bottom-color: var(--fill-color);\n",
              "    }\n",
              "  }\n",
              "</style>\n",
              "\n",
              "  <script>\n",
              "    async function quickchart(key) {\n",
              "      const quickchartButtonEl =\n",
              "        document.querySelector('#' + key + ' button');\n",
              "      quickchartButtonEl.disabled = true;  // To prevent multiple clicks.\n",
              "      quickchartButtonEl.classList.add('colab-df-spinner');\n",
              "      try {\n",
              "        const charts = await google.colab.kernel.invokeFunction(\n",
              "            'suggestCharts', [key], {});\n",
              "      } catch (error) {\n",
              "        console.error('Error during call to suggestCharts:', error);\n",
              "      }\n",
              "      quickchartButtonEl.classList.remove('colab-df-spinner');\n",
              "      quickchartButtonEl.classList.add('colab-df-quickchart-complete');\n",
              "    }\n",
              "    (() => {\n",
              "      let quickchartButtonEl =\n",
              "        document.querySelector('#df-6871311f-ca49-4cd3-9bf0-414105713cbc button');\n",
              "      quickchartButtonEl.style.display =\n",
              "        google.colab.kernel.accessAllowed ? 'block' : 'none';\n",
              "    })();\n",
              "  </script>\n",
              "</div>\n",
              "    </div>\n",
              "  </div>\n"
            ],
            "application/vnd.google.colaboratory.intrinsic+json": {
              "type": "dataframe",
              "variable_name": "train"
            }
          },
          "metadata": {},
          "execution_count": 7
        }
      ]
    }
  ]
}
